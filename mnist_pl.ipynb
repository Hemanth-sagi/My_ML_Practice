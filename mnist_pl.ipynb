{
 "cells": [
  {
   "cell_type": "markdown",
   "metadata": {},
   "source": [
    "* Dataset\n",
    "* Build model\n",
    "* Define loss_fn & optimizer\n",
    "* Define trainer (model produces predections -> compute the loss (label - pred ) -> backprop)\n",
    "* Define test fun (on validation) -> trainin/validation/test\n",
    "* Run the trainer and test"
   ]
  },
  {
   "cell_type": "code",
   "execution_count": null,
   "metadata": {},
   "outputs": [],
   "source": [
    "import torch\n",
    "from torch import nn\n",
    "from torch.nn import functional as F\n",
    "from torch import optim\n",
    "from torch.utils.data import DataLoader\n",
    "from torchvision.datasets import MNIST\n",
    "from torchvision.transforms import ToTensor\n",
    "import pytorch_lightning as pl\n"
   ]
  },
  {
   "cell_type": "code",
   "execution_count": null,
   "metadata": {},
   "outputs": [],
   "source": [
    "# get data set\n",
    "\n",
    "train_ds= MNIST(root='data', train=True, download=True, transform=ToTensor())\n",
    "valid_ds= MNIST(root='data', train=False, download=True, transform=ToTensor())\n",
    "\n",
    "bs =64\n",
    "train_dl = DataLoader(train_ds, batch_size=bs, shuffle=True)\n",
    "valid_dl = DataLoader(valid_ds, batch_size=bs, shuffle=True)"
   ]
  },
  {
   "cell_type": "code",
   "execution_count": null,
   "metadata": {},
   "outputs": [],
   "source": [
    "#Build MOdel\n",
    "\n",
    "import pytorch_lightning as pl\n",
    "import torch\n",
    "from torch import nn, optim\n",
    "import torch.nn.functional as F\n",
    "import torchmetrics\n",
    "\n",
    "class MNISTModel(pl.LightningModule):\n",
    "    def __init__(self, lr=0.5):  # Fixed typo in the method name\n",
    "        super().__init__()\n",
    "        self.lr = lr\n",
    "        self.lin = nn.Linear(784, 10)\n",
    "        self.train_accuracy = torchmetrics.Accuracy(task='multiclass', num_classes=10)\n",
    "        self.valid_accuracy = torchmetrics.Accuracy(task='multiclass', num_classes=10)\n",
    "\n",
    "\n",
    "    def forward(self, xb):  # Fixed typo in the method name\n",
    "        xb = xb.flatten(1, -1)\n",
    "        return self.lin(xb)\n",
    "\n",
    "    def training_step(self, batch, batch_idx):\n",
    "        loss = self.shared_step(batch, train=True)\n",
    "        return loss\n",
    "\n",
    "    def validation_step(self, batch, batch_idx):\n",
    "        self.shared_step(batch, train=False)\n",
    "\n",
    "    def shared_step(self, batch, train):\n",
    "        xb, yb = batch\n",
    "        pred = self(xb)\n",
    "        loss = F.cross_entropy(pred, yb)\n",
    "\n",
    "        if (train):\n",
    "            self.train_accuracy(pred.softmax(dim=-1), yb)\n",
    "            self.log('train_accuracy', self.train_accuracy, on_step=True, on_epoch=False, prog_bar=True)\n",
    "        else:\n",
    "            self.valid_accuracy(pred.softmax(dim=-1), yb)\n",
    "            self.log('valid_accuracy', self.train_accuracy, on_step=True, on_epoch=True, prog_bar=True)\n",
    "\n",
    "        return loss\n",
    "\n",
    "    def configure_optimizers(self):\n",
    "        return optim.SGD(self.parameters(), lr=self.lr)  # Fixed typo in the parameter name\n"
   ]
  },
  {
   "cell_type": "code",
   "execution_count": null,
   "metadata": {},
   "outputs": [],
   "source": [
    "from pytorch_lightning.loggers import TensorBoardLogger\n",
    "\n",
    "# logger\n",
    "tb_logger= TensorBoardLogger('tb_logs')"
   ]
  },
  {
   "cell_type": "code",
   "execution_count": null,
   "metadata": {},
   "outputs": [],
   "source": [
    "# initilaize model\n",
    "\n",
    "mnist_model= MNISTModel()\n",
    "\n",
    "# init trainer\n",
    "\n",
    "trainer= pl.Trainer(max_epochs=2, logger=tb_logger)\n",
    "\n",
    "# Train model\n",
    "trainer.fit(mnist_model, train_dl, valid_dl)\n"
   ]
  }
 ],
 "metadata": {
  "kernelspec": {
   "display_name": "example",
   "language": "python",
   "name": "python3"
  },
  "language_info": {
   "codemirror_mode": {
    "name": "ipython",
    "version": 3
   },
   "file_extension": ".py",
   "mimetype": "text/x-python",
   "name": "python",
   "nbconvert_exporter": "python",
   "pygments_lexer": "ipython3",
   "version": "3.12.4"
  }
 },
 "nbformat": 4,
 "nbformat_minor": 2
}
